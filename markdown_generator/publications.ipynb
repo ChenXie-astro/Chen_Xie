{
 "cells": [
  {
   "cell_type": "markdown",
   "metadata": {
    "deletable": true,
    "editable": true
   },
   "source": [
    "# Publications markdown generator for academicpages\n",
    "\n",
    "Takes a TSV of publications with metadata and converts them for use with [academicpages.github.io](academicpages.github.io). This is an interactive Jupyter notebook ([see more info here](http://jupyter-notebook-beginner-guide.readthedocs.io/en/latest/what_is_jupyter.html)). The core python code is also in `publications.py`. Run either from the `markdown_generator` folder after replacing `publications.tsv` with one containing your data.\n",
    "\n",
    "TODO: Make this work with BibTex and other databases of citations, rather than Stuart's non-standard TSV format and citation style.\n"
   ]
  },
  {
   "cell_type": "markdown",
   "metadata": {},
   "source": [
    "## Data format\n",
    "\n",
    "The TSV needs to have the following columns: pub_date, title, venue, excerpt, citation, site_url, and paper_url, with a header at the top. \n",
    "\n",
    "- `excerpt` and `paper_url` can be blank, but the others must have values. \n",
    "- `pub_date` must be formatted as YYYY-MM-DD.\n",
    "- `url_slug` will be the descriptive part of the .md file and the permalink URL for the page about the paper. The .md file will be `YYYY-MM-DD-[url_slug].md` and the permalink will be `https://[yourdomain]/publications/YYYY-MM-DD-[url_slug]`\n",
    "\n",
    "This is how the raw file looks (it doesn't look pretty, use a spreadsheet or other program to edit and create)."
   ]
  },
  {
   "cell_type": "code",
   "execution_count": 1,
   "metadata": {
    "collapsed": false
   },
   "outputs": [
    {
     "name": "stdout",
     "output_type": "stream",
     "text": [
      "pub_date\ttitle\tvenue\texcerpt\tcitation\turl_slug\tpaper_url\n",
      "2021\tKeck/OSIRIS Pa$\\beta$ High-contrast Imaging and Updated Constraints on PDS 70b\tAJ\t\tUyama, T., Xie, C., Aoyama, Y., et al. 2021, AJ, 162, 214\thttps://ui.adsabs.harvard.edu/abs/2021AJ....162..214U/abstract\t\n",
      "2021\tA MUSE view of the asymmetric jet from HD 163296\tA&A\t\tXie, C. et al. 2021, A&A, 650, L6\thttps://ui.adsabs.harvard.edu/abs/2021A%26A...650L...6X/abstract\thttp://chenxie-astro.github.io/chen_xie/files/Xie_2021_A&A_650_L6.pdf\n",
      "2020\tSearching for proto-planets with MUSE\tA&A\t\tXie, C., Haffert, S. Y., de Boer, J., et al. 2020, A&A, 644, A149\thttps://ui.adsabs.harvard.edu/abs/2020A%26A...644A.149X/abstract\thttp://chenxie-astro.github.io/chen_xie/files/Xie_2020_A&A_644_A149.pdf\n",
      "2020\tThe discovery of radio halos in the Frontier Fields clusters  Abell S1063 and Abell 370\tA&A\t\tXie, C., van Weeren, R. J., Lovisari, L., et al. 2020, A&A, 636, A3\thttps://ui.adsabs.harvard.edu/abs/2020A%26A...636A...3X/abstract\thttp://chenxie-astro.github.io/chen_xie/files/Xie_2020_A&A_636_A3.pdf\n",
      "2016\tOn the Host Galaxy of GRB 150101B and the Associated Active Galactic Nucleus\tApjL\t\tXie, C., Fang, T., Wang, J., Liu, T., & Jiang, X. 2016, ApJL, 824, L17\thttps://ui.adsabs.harvard.edu/abs/2016ApJ...824L..17X/abstract\thttp://chenxie-astro.github.io/chen_xie/files/Xie_2016_ApJL_824_L17.pdf\n",
      "\t\t\t\t\t\t"
     ]
    }
   ],
   "source": [
    "!cat publications.tsv"
   ]
  },
  {
   "cell_type": "markdown",
   "metadata": {},
   "source": [
    "## Import pandas\n",
    "\n",
    "We are using the very handy pandas library for dataframes."
   ]
  },
  {
   "cell_type": "code",
   "execution_count": 2,
   "metadata": {
    "collapsed": true,
    "deletable": true,
    "editable": true
   },
   "outputs": [],
   "source": [
    "import pandas as pd"
   ]
  },
  {
   "cell_type": "markdown",
   "metadata": {},
   "source": [
    "## Import TSV\n",
    "\n",
    "Pandas makes this easy with the read_csv function. We are using a TSV, so we specify the separator as a tab, or `\\t`.\n",
    "\n",
    "I found it important to put this data in a tab-separated values format, because there are a lot of commas in this kind of data and comma-separated values can get messed up. However, you can modify the import statement, as pandas also has read_excel(), read_json(), and others."
   ]
  },
  {
   "cell_type": "code",
   "execution_count": 3,
   "metadata": {
    "collapsed": false,
    "deletable": true,
    "editable": true
   },
   "outputs": [
    {
     "data": {
      "text/html": "<div>\n<style scoped>\n    .dataframe tbody tr th:only-of-type {\n        vertical-align: middle;\n    }\n\n    .dataframe tbody tr th {\n        vertical-align: top;\n    }\n\n    .dataframe thead th {\n        text-align: right;\n    }\n</style>\n<table border=\"1\" class=\"dataframe\">\n  <thead>\n    <tr style=\"text-align: right;\">\n      <th></th>\n      <th>pub_date</th>\n      <th>title</th>\n      <th>venue</th>\n      <th>excerpt</th>\n      <th>citation</th>\n      <th>url_slug</th>\n      <th>paper_url</th>\n    </tr>\n  </thead>\n  <tbody>\n    <tr>\n      <th>0</th>\n      <td>2021.0</td>\n      <td>Keck/OSIRIS Pa$\\beta$ High-contrast Imaging an...</td>\n      <td>AJ</td>\n      <td>NaN</td>\n      <td>Uyama, T., Xie, C., Aoyama, Y., et al. 2021, A...</td>\n      <td>https://ui.adsabs.harvard.edu/abs/2021AJ....16...</td>\n      <td>NaN</td>\n    </tr>\n    <tr>\n      <th>1</th>\n      <td>2021.0</td>\n      <td>A MUSE view of the asymmetric jet from HD 163296</td>\n      <td>A&amp;A</td>\n      <td>NaN</td>\n      <td>Xie, C. et al. 2021, A&amp;A, 650, L6</td>\n      <td>https://ui.adsabs.harvard.edu/abs/2021A%26A......</td>\n      <td>http://chenxie-astro.github.io/chen_xie/files/...</td>\n    </tr>\n    <tr>\n      <th>2</th>\n      <td>2020.0</td>\n      <td>Searching for proto-planets with MUSE</td>\n      <td>A&amp;A</td>\n      <td>NaN</td>\n      <td>Xie, C., Haffert, S. Y., de Boer, J., et al. 2...</td>\n      <td>https://ui.adsabs.harvard.edu/abs/2020A%26A......</td>\n      <td>http://chenxie-astro.github.io/chen_xie/files/...</td>\n    </tr>\n    <tr>\n      <th>3</th>\n      <td>2020.0</td>\n      <td>The discovery of radio halos in the Frontier F...</td>\n      <td>A&amp;A</td>\n      <td>NaN</td>\n      <td>Xie, C., van Weeren, R. J., Lovisari, L., et a...</td>\n      <td>https://ui.adsabs.harvard.edu/abs/2020A%26A......</td>\n      <td>http://chenxie-astro.github.io/chen_xie/files/...</td>\n    </tr>\n    <tr>\n      <th>4</th>\n      <td>2016.0</td>\n      <td>On the Host Galaxy of GRB 150101B and the Asso...</td>\n      <td>ApjL</td>\n      <td>NaN</td>\n      <td>Xie, C., Fang, T., Wang, J., Liu, T., &amp; Jiang,...</td>\n      <td>https://ui.adsabs.harvard.edu/abs/2016ApJ...82...</td>\n      <td>http://chenxie-astro.github.io/chen_xie/files/...</td>\n    </tr>\n    <tr>\n      <th>5</th>\n      <td>NaN</td>\n      <td>NaN</td>\n      <td>NaN</td>\n      <td>NaN</td>\n      <td>NaN</td>\n      <td>NaN</td>\n      <td>NaN</td>\n    </tr>\n  </tbody>\n</table>\n</div>",
      "text/plain": "   pub_date                                              title venue  excerpt  \\\n0    2021.0  Keck/OSIRIS Pa$\\beta$ High-contrast Imaging an...    AJ      NaN   \n1    2021.0   A MUSE view of the asymmetric jet from HD 163296   A&A      NaN   \n2    2020.0              Searching for proto-planets with MUSE   A&A      NaN   \n3    2020.0  The discovery of radio halos in the Frontier F...   A&A      NaN   \n4    2016.0  On the Host Galaxy of GRB 150101B and the Asso...  ApjL      NaN   \n5       NaN                                                NaN   NaN      NaN   \n\n                                            citation  \\\n0  Uyama, T., Xie, C., Aoyama, Y., et al. 2021, A...   \n1                  Xie, C. et al. 2021, A&A, 650, L6   \n2  Xie, C., Haffert, S. Y., de Boer, J., et al. 2...   \n3  Xie, C., van Weeren, R. J., Lovisari, L., et a...   \n4  Xie, C., Fang, T., Wang, J., Liu, T., & Jiang,...   \n5                                                NaN   \n\n                                            url_slug  \\\n0  https://ui.adsabs.harvard.edu/abs/2021AJ....16...   \n1  https://ui.adsabs.harvard.edu/abs/2021A%26A......   \n2  https://ui.adsabs.harvard.edu/abs/2020A%26A......   \n3  https://ui.adsabs.harvard.edu/abs/2020A%26A......   \n4  https://ui.adsabs.harvard.edu/abs/2016ApJ...82...   \n5                                                NaN   \n\n                                           paper_url  \n0                                                NaN  \n1  http://chenxie-astro.github.io/chen_xie/files/...  \n2  http://chenxie-astro.github.io/chen_xie/files/...  \n3  http://chenxie-astro.github.io/chen_xie/files/...  \n4  http://chenxie-astro.github.io/chen_xie/files/...  \n5                                                NaN  "
     },
     "execution_count": 3,
     "metadata": {},
     "output_type": "execute_result"
    }
   ],
   "source": [
    "publications = pd.read_csv(\"publications.tsv\", sep=\"\\t\", header=0)\n",
    "publications\n"
   ]
  },
  {
   "cell_type": "markdown",
   "metadata": {},
   "source": [
    "## Escape special characters\n",
    "\n",
    "YAML is very picky about how it takes a valid string, so we are replacing single and double quotes (and ampersands) with their HTML encoded equivilents. This makes them look not so readable in raw format, but they are parsed and rendered nicely."
   ]
  },
  {
   "cell_type": "code",
   "execution_count": 4,
   "metadata": {
    "collapsed": true,
    "deletable": true,
    "editable": true
   },
   "outputs": [],
   "source": [
    "html_escape_table = {\n",
    "    \"&\": \"&amp;\",\n",
    "    '\"': \"&quot;\",\n",
    "    \"'\": \"&apos;\"\n",
    "    }\n",
    "\n",
    "def html_escape(text):\n",
    "    \"\"\"Produce entities within text.\"\"\"\n",
    "    return \"\".join(html_escape_table.get(c,c) for c in text)"
   ]
  },
  {
   "cell_type": "markdown",
   "metadata": {},
   "source": [
    "## Creating the markdown files\n",
    "\n",
    "This is where the heavy lifting is done. This loops through all the rows in the TSV dataframe, then starts to concatentate a big string (```md```) that contains the markdown for each type. It does the YAML metadata first, then does the description for the individual page."
   ]
  },
  {
   "cell_type": "code",
   "execution_count": 5,
   "metadata": {
    "collapsed": false,
    "deletable": true,
    "editable": true
   },
   "outputs": [
    {
     "ename": "TypeError",
     "evalue": "'float' object is not subscriptable",
     "output_type": "error",
     "traceback": [
      "\u001b[0;31m---------------------------------------------------------------------------\u001b[0m",
      "\u001b[0;31mTypeError\u001b[0m                                 Traceback (most recent call last)",
      "\u001b[0;32m<ipython-input-5-592da968cbd3>\u001b[0m in \u001b[0;36m<module>\u001b[0;34m\u001b[0m\n\u001b[1;32m      4\u001b[0m     \u001b[0mmd_filename\u001b[0m \u001b[0;34m=\u001b[0m \u001b[0mstr\u001b[0m\u001b[0;34m(\u001b[0m\u001b[0mitem\u001b[0m\u001b[0;34m.\u001b[0m\u001b[0mpub_date\u001b[0m\u001b[0;34m)\u001b[0m \u001b[0;34m+\u001b[0m \u001b[0;34m\"-\"\u001b[0m \u001b[0;34m+\u001b[0m \u001b[0mitem\u001b[0m\u001b[0;34m.\u001b[0m\u001b[0murl_slug\u001b[0m \u001b[0;34m+\u001b[0m \u001b[0;34m\".md\"\u001b[0m\u001b[0;34m\u001b[0m\u001b[0;34m\u001b[0m\u001b[0m\n\u001b[1;32m      5\u001b[0m     \u001b[0mhtml_filename\u001b[0m \u001b[0;34m=\u001b[0m \u001b[0mstr\u001b[0m\u001b[0;34m(\u001b[0m\u001b[0mitem\u001b[0m\u001b[0;34m.\u001b[0m\u001b[0mpub_date\u001b[0m\u001b[0;34m)\u001b[0m \u001b[0;34m+\u001b[0m \u001b[0;34m\"-\"\u001b[0m \u001b[0;34m+\u001b[0m \u001b[0mitem\u001b[0m\u001b[0;34m.\u001b[0m\u001b[0murl_slug\u001b[0m\u001b[0;34m\u001b[0m\u001b[0;34m\u001b[0m\u001b[0m\n\u001b[0;32m----> 6\u001b[0;31m     \u001b[0myear\u001b[0m \u001b[0;34m=\u001b[0m \u001b[0mitem\u001b[0m\u001b[0;34m.\u001b[0m\u001b[0mpub_date\u001b[0m\u001b[0;34m[\u001b[0m\u001b[0;34m:\u001b[0m\u001b[0;36m4\u001b[0m\u001b[0;34m]\u001b[0m\u001b[0;34m\u001b[0m\u001b[0;34m\u001b[0m\u001b[0m\n\u001b[0m\u001b[1;32m      7\u001b[0m \u001b[0;34m\u001b[0m\u001b[0m\n\u001b[1;32m      8\u001b[0m     \u001b[0;31m## YAML variables\u001b[0m\u001b[0;34m\u001b[0m\u001b[0;34m\u001b[0m\u001b[0;34m\u001b[0m\u001b[0m\n",
      "\u001b[0;31mTypeError\u001b[0m: 'float' object is not subscriptable"
     ]
    }
   ],
   "source": [
    "import os\n",
    "for row, item in publications.iterrows():\n",
    "    \n",
    "    md_filename = str(item.pub_date) + \"-\" + item.url_slug + \".md\"\n",
    "    html_filename = str(item.pub_date) + \"-\" + item.url_slug\n",
    "    year = item.pub_date[:4]\n",
    "    \n",
    "    ## YAML variables\n",
    "    \n",
    "    md = \"---\\ntitle: \\\"\"   + item.title + '\"\\n'\n",
    "    \n",
    "    md += \"\"\"collection: publications\"\"\"\n",
    "    \n",
    "    md += \"\"\"\\npermalink: /publication/\"\"\" + html_filename\n",
    "    \n",
    "    if len(str(item.excerpt)) > 5:\n",
    "        md += \"\\nexcerpt: '\" + html_escape(item.excerpt) + \"'\"\n",
    "    \n",
    "    md += \"\\ndate: \" + str(item.pub_date) \n",
    "    \n",
    "    md += \"\\nvenue: '\" + html_escape(item.venue) + \"'\"\n",
    "    \n",
    "    if len(str(item.paper_url)) > 5:\n",
    "        md += \"\\npaperurl: '\" + item.paper_url + \"'\"\n",
    "    \n",
    "    md += \"\\ncitation: '\" + html_escape(item.citation) + \"'\"\n",
    "    \n",
    "    md += \"\\n---\"\n",
    "    \n",
    "    ## Markdown description for individual page\n",
    "        \n",
    "    if len(str(item.excerpt)) > 5:\n",
    "        md += \"\\n\" + html_escape(item.excerpt) + \"\\n\"\n",
    "    \n",
    "    if len(str(item.paper_url)) > 5:\n",
    "        md += \"\\n[Download paper here](\" + item.paper_url + \")\\n\" \n",
    "        \n",
    "    md += \"\\nRecommended citation: \" + item.citation\n",
    "    \n",
    "    md_filename = os.path.basename(md_filename)\n",
    "       \n",
    "    with open(\"../_publications/\" + md_filename, 'w') as f:\n",
    "        f.write(md)"
   ]
  },
  {
   "cell_type": "markdown",
   "metadata": {},
   "source": [
    "These files are in the publications directory, one directory below where we're working from."
   ]
  },
  {
   "cell_type": "code",
   "execution_count": null,
   "metadata": {
    "collapsed": false,
    "deletable": true,
    "editable": true
   },
   "outputs": [
    {
     "name": "stdout",
     "output_type": "stream",
     "text": [
      "2009-10-01-paper-title-number-1.md  2015-10-01-paper-title-number-3.md\r\n",
      "2010-10-01-paper-title-number-2.md\r\n"
     ]
    }
   ],
   "source": [
    "!ls ../_publications/"
   ]
  },
  {
   "cell_type": "code",
   "execution_count": null,
   "metadata": {
    "collapsed": false,
    "deletable": true,
    "editable": true
   },
   "outputs": [
    {
     "name": "stdout",
     "output_type": "stream",
     "text": [
      "---\r\n",
      "title: \"Paper Title Number 1\"\r\n",
      "collection: publications\r\n",
      "permalink: /publication/2009-10-01-paper-title-number-1\r\n",
      "excerpt: 'This paper is about the number 1. The number 2 is left for future work.'\r\n",
      "date: 2009-10-01\r\n",
      "venue: 'Journal 1'\r\n",
      "paperurl: 'http://academicpages.github.io/files/paper1.pdf'\r\n",
      "citation: 'Your Name, You. (2009). &quot;Paper Title Number 1.&quot; <i>Journal 1</i>. 1(1).'\r\n",
      "---\r\n",
      "This paper is about the number 1. The number 2 is left for future work.\r\n",
      "\r\n",
      "[Download paper here](http://academicpages.github.io/files/paper1.pdf)\r\n",
      "\r\n",
      "Recommended citation: Your Name, You. (2009). \"Paper Title Number 1.\" <i>Journal 1</i>. 1(1)."
     ]
    }
   ],
   "source": [
    "!cat ../_publications/2009-10-01-paper-title-number-1.md"
   ]
  },
  {
   "cell_type": "code",
   "execution_count": null,
   "metadata": {
    "collapsed": true,
    "deletable": true,
    "editable": true
   },
   "outputs": [],
   "source": []
  }
 ],
 "metadata": {
  "kernelspec": {
   "display_name": "Python 3.7.7 64-bit ('base': conda)",
   "name": "python377jvsc74a57bd0eb5c220a6eb2c6139f2898930f5ebb630f4f99582f6978130b786fd209203b11"
  },
  "language_info": {
   "codemirror_mode": {
    "name": "ipython",
    "version": 3
   },
   "file_extension": ".py",
   "mimetype": "text/x-python",
   "name": "python",
   "nbconvert_exporter": "python",
   "pygments_lexer": "ipython3",
   "version": "3.7.7"
  }
 },
 "nbformat": 4,
 "nbformat_minor": 0
}